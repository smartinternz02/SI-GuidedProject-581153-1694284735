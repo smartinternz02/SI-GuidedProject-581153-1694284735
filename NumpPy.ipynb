{
  "nbformat": 4,
  "nbformat_minor": 0,
  "metadata": {
    "colab": {
      "provenance": [],
      "include_colab_link": true
    },
    "kernelspec": {
      "name": "python3",
      "display_name": "Python 3"
    },
    "language_info": {
      "name": "python"
    }
  },
  "cells": [
    {
      "cell_type": "markdown",
      "metadata": {
        "id": "view-in-github",
        "colab_type": "text"
      },
      "source": [
        "<a href=\"https://colab.research.google.com/github/smartinternz02/SI-GuidedProject-581153-1694284735/blob/main/NumpPy.ipynb\" target=\"_parent\"><img src=\"https://colab.research.google.com/assets/colab-badge.svg\" alt=\"Open In Colab\"/></a>"
      ]
    },
    {
      "cell_type": "markdown",
      "source": [
        "# NumPy Exercises\n",
        "\n",
        "Now that we've learned about NumPy let's test your knowledge. We'll start off with a few simple tasks, and then you'll be asked some more complicated questions."
      ],
      "metadata": {
        "id": "GWTllg1zJhCk"
      }
    },
    {
      "cell_type": "markdown",
      "source": [
        "#### Import NumPy as np"
      ],
      "metadata": {
        "id": "Jv9O1L28Jshl"
      }
    },
    {
      "cell_type": "code",
      "execution_count": null,
      "metadata": {
        "id": "SMc8yx5ODOdL"
      },
      "outputs": [],
      "source": [
        "import numpy as np\n",
        "#Import NumPy as np"
      ]
    },
    {
      "cell_type": "markdown",
      "source": [
        "#### Create an array of 10 zeros"
      ],
      "metadata": {
        "id": "Mh609ONBJxwm"
      }
    },
    {
      "cell_type": "code",
      "source": [
        "z1=np.zeros(10)\n",
        "z1\n",
        "#Create an array of 10 zeros"
      ],
      "metadata": {
        "colab": {
          "base_uri": "https://localhost:8080/"
        },
        "id": "so7OfSlhDXZl",
        "outputId": "73d8e232-01ea-4ed8-f9b7-1bc28b2c6c4d"
      },
      "execution_count": null,
      "outputs": [
        {
          "output_type": "execute_result",
          "data": {
            "text/plain": [
              "array([0., 0., 0., 0., 0., 0., 0., 0., 0., 0.])"
            ]
          },
          "metadata": {},
          "execution_count": 11
        }
      ]
    },
    {
      "cell_type": "markdown",
      "source": [
        "#### Create an array of 10 ones"
      ],
      "metadata": {
        "id": "AiM4YZTcJ1i-"
      }
    },
    {
      "cell_type": "code",
      "source": [
        "#Create an array of 10 ones\n",
        "Z2=np.ones(10)\n",
        "Z2\n"
      ],
      "metadata": {
        "colab": {
          "base_uri": "https://localhost:8080/"
        },
        "id": "M-qfx_s7DXcH",
        "outputId": "7a97e616-51d7-4386-d1c2-95ea492e81ae"
      },
      "execution_count": null,
      "outputs": [
        {
          "output_type": "execute_result",
          "data": {
            "text/plain": [
              "array([1., 1., 1., 1., 1., 1., 1., 1., 1., 1.])"
            ]
          },
          "metadata": {},
          "execution_count": 13
        }
      ]
    },
    {
      "cell_type": "markdown",
      "source": [
        "#### Create an array of 10 fives"
      ],
      "metadata": {
        "id": "ZK-QPTkPJ5UM"
      }
    },
    {
      "cell_type": "code",
      "source": [
        "#Create an array of 10 fives\n",
        "Z3=np.full(10,5.0)\n",
        "Z3\n",
        "\n"
      ],
      "metadata": {
        "colab": {
          "base_uri": "https://localhost:8080/"
        },
        "id": "JTHLRIY8DXe5",
        "outputId": "0498894a-a7f2-4718-dc9f-5eefee512c07"
      },
      "execution_count": null,
      "outputs": [
        {
          "output_type": "execute_result",
          "data": {
            "text/plain": [
              "array([5., 5., 5., 5., 5., 5., 5., 5., 5., 5.])"
            ]
          },
          "metadata": {},
          "execution_count": 14
        }
      ]
    },
    {
      "cell_type": "markdown",
      "source": [
        "#### Create an array of the integers from 10 to 50"
      ],
      "metadata": {
        "id": "okZxmb3yJ9IO"
      }
    },
    {
      "cell_type": "code",
      "source": [
        "#Create an array of the integers from 10 to 50\n",
        "a=np.arange(10,51)\n",
        "a"
      ],
      "metadata": {
        "colab": {
          "base_uri": "https://localhost:8080/"
        },
        "id": "Sy8eFXMEDXhr",
        "outputId": "28037243-245c-413a-8c3e-96d2e19af0f5"
      },
      "execution_count": null,
      "outputs": [
        {
          "output_type": "execute_result",
          "data": {
            "text/plain": [
              "array([10, 11, 12, 13, 14, 15, 16, 17, 18, 19, 20, 21, 22, 23, 24, 25, 26,\n",
              "       27, 28, 29, 30, 31, 32, 33, 34, 35, 36, 37, 38, 39, 40, 41, 42, 43,\n",
              "       44, 45, 46, 47, 48, 49, 50])"
            ]
          },
          "metadata": {},
          "execution_count": 15
        }
      ]
    },
    {
      "cell_type": "markdown",
      "source": [
        "#### Create an array of all the even integers from 10 to 50"
      ],
      "metadata": {
        "id": "zdytMXxFKCjA"
      }
    },
    {
      "cell_type": "code",
      "source": [
        "#Create an array of all the even integers from 10 to 50\n",
        "'''\n",
        "el=[]\n",
        "for i in a:\n",
        " if i%2==0:\n",
        " el.append(i)\n",
        "el_arr=np.array(el)\n",
        "el_arr\n",
        "'''\n",
        "ev_arr=np.arange(10,51,2)\n",
        "ev_arr"
      ],
      "metadata": {
        "colab": {
          "base_uri": "https://localhost:8080/"
        },
        "id": "gQCYdMRwDXkV",
        "outputId": "cdaa087f-0d56-4a8a-a363-627ef44df4a4"
      },
      "execution_count": null,
      "outputs": [
        {
          "output_type": "execute_result",
          "data": {
            "text/plain": [
              "array([10, 12, 14, 16, 18, 20, 22, 24, 26, 28, 30, 32, 34, 36, 38, 40, 42,\n",
              "       44, 46, 48, 50])"
            ]
          },
          "metadata": {},
          "execution_count": 16
        }
      ]
    },
    {
      "cell_type": "markdown",
      "source": [
        "#### Create a 3x3 matrix with values ranging from 0 to 8"
      ],
      "metadata": {
        "id": "wAt6ZTuiKIQA"
      }
    },
    {
      "cell_type": "code",
      "source": [
        "#Create a 3x3 matrix with values ranging from 0 to 8\n",
        "a1=np.array([[0,1,2,],[3,4,5],[6,7,8]])\n",
        "a1"
      ],
      "metadata": {
        "colab": {
          "base_uri": "https://localhost:8080/"
        },
        "id": "W4QY7SCSDXnH",
        "outputId": "fca7e1d4-a291-441a-e100-782082ae381a"
      },
      "execution_count": null,
      "outputs": [
        {
          "output_type": "execute_result",
          "data": {
            "text/plain": [
              "array([[0, 1, 2],\n",
              "       [3, 4, 5],\n",
              "       [6, 7, 8]])"
            ]
          },
          "metadata": {},
          "execution_count": 17
        }
      ]
    },
    {
      "cell_type": "markdown",
      "source": [
        "#### Create a 3x3 identity matrix"
      ],
      "metadata": {
        "id": "HdJcfqiaKL1g"
      }
    },
    {
      "cell_type": "code",
      "source": [
        "#Create a 3x3 identity matrix\n",
        "a2=np.eye(3)\n",
        "a2"
      ],
      "metadata": {
        "colab": {
          "base_uri": "https://localhost:8080/"
        },
        "id": "Nz4qiiPiDXqC",
        "outputId": "4b1ac807-af4f-4bd7-b88a-4b1b9de4f3aa"
      },
      "execution_count": null,
      "outputs": [
        {
          "output_type": "execute_result",
          "data": {
            "text/plain": [
              "array([[1., 0., 0.],\n",
              "       [0., 1., 0.],\n",
              "       [0., 0., 1.]])"
            ]
          },
          "metadata": {},
          "execution_count": 18
        }
      ]
    },
    {
      "cell_type": "markdown",
      "source": [
        "#### Use NumPy to generate a random number between 0 and 1"
      ],
      "metadata": {
        "id": "8FLi3hjcKPFW"
      }
    },
    {
      "cell_type": "code",
      "source": [
        "#Use NumPy to generate a random number between 0 and 1\n",
        "ran_num=np.random.rand()\n",
        "ran_num\n"
      ],
      "metadata": {
        "colab": {
          "base_uri": "https://localhost:8080/"
        },
        "id": "YwfEBqC5FFlj",
        "outputId": "338286ac-5e31-411a-a304-28085d02fae8"
      },
      "execution_count": null,
      "outputs": [
        {
          "output_type": "execute_result",
          "data": {
            "text/plain": [
              "0.8305328679219249"
            ]
          },
          "metadata": {},
          "execution_count": 19
        }
      ]
    },
    {
      "cell_type": "markdown",
      "source": [
        "#### Use NumPy to generate an array of 25 random numbers sampled from a standard normal distribution"
      ],
      "metadata": {
        "id": "FIo_LUrQKT6Y"
      }
    },
    {
      "cell_type": "code",
      "source": [
        "#Use NumPy to generate an array of 25 random numbers sampled from a standard normal distribution\n",
        "a=np.random.randn(25)\n",
        "a\n"
      ],
      "metadata": {
        "colab": {
          "base_uri": "https://localhost:8080/"
        },
        "id": "EQVEx6TYFGKA",
        "outputId": "5f3e279c-b7c9-467d-e35f-5a58df42d8cd"
      },
      "execution_count": null,
      "outputs": [
        {
          "output_type": "execute_result",
          "data": {
            "text/plain": [
              "array([-2.15329461, -0.2937227 , -0.33964035, -2.68935038,  0.15706185,\n",
              "       -0.86649708,  1.60131784,  0.39923929, -0.39386285,  1.68934253,\n",
              "        1.48011768,  2.53894029,  0.06769645, -1.81636856, -1.12653115,\n",
              "       -0.217692  , -0.66491459,  0.40006661,  0.35558312,  0.89761416,\n",
              "       -0.21218233,  0.16855108, -0.16830406,  0.24283266,  0.16928474])"
            ]
          },
          "metadata": {},
          "execution_count": 20
        }
      ]
    },
    {
      "cell_type": "markdown",
      "source": [
        "#### Create the following matrix:"
      ],
      "metadata": {
        "id": "jorfPVtDKXTQ"
      }
    },
    {
      "cell_type": "code",
      "source": [
        "#Create the following matrix:\n",
        "ar=np.arange(0.01,1,0.01)\n",
        "ar"
      ],
      "metadata": {
        "colab": {
          "base_uri": "https://localhost:8080/"
        },
        "id": "FZkVxk21F6Ra",
        "outputId": "42b9ffaf-43d6-4b55-957e-0690422bbba6"
      },
      "execution_count": null,
      "outputs": [
        {
          "output_type": "execute_result",
          "data": {
            "text/plain": [
              "array([0.01, 0.02, 0.03, 0.04, 0.05, 0.06, 0.07, 0.08, 0.09, 0.1 , 0.11,\n",
              "       0.12, 0.13, 0.14, 0.15, 0.16, 0.17, 0.18, 0.19, 0.2 , 0.21, 0.22,\n",
              "       0.23, 0.24, 0.25, 0.26, 0.27, 0.28, 0.29, 0.3 , 0.31, 0.32, 0.33,\n",
              "       0.34, 0.35, 0.36, 0.37, 0.38, 0.39, 0.4 , 0.41, 0.42, 0.43, 0.44,\n",
              "       0.45, 0.46, 0.47, 0.48, 0.49, 0.5 , 0.51, 0.52, 0.53, 0.54, 0.55,\n",
              "       0.56, 0.57, 0.58, 0.59, 0.6 , 0.61, 0.62, 0.63, 0.64, 0.65, 0.66,\n",
              "       0.67, 0.68, 0.69, 0.7 , 0.71, 0.72, 0.73, 0.74, 0.75, 0.76, 0.77,\n",
              "       0.78, 0.79, 0.8 , 0.81, 0.82, 0.83, 0.84, 0.85, 0.86, 0.87, 0.88,\n",
              "       0.89, 0.9 , 0.91, 0.92, 0.93, 0.94, 0.95, 0.96, 0.97, 0.98, 0.99])"
            ]
          },
          "metadata": {},
          "execution_count": 28
        }
      ]
    },
    {
      "cell_type": "markdown",
      "source": [
        "#### Create an array of 20 linearly spaced points between 0 and 1:"
      ],
      "metadata": {
        "id": "OMliAUnoKcha"
      }
    },
    {
      "cell_type": "code",
      "source": [
        "#Create an array of 20 linearly spaced points between 0 and 1:\n",
        "la=np.linspace(0,1,20)\n",
        "la\n"
      ],
      "metadata": {
        "colab": {
          "base_uri": "https://localhost:8080/"
        },
        "id": "ZzcNLSVpF6Uv",
        "outputId": "d542be87-4a1a-443c-c89a-408d39546b17"
      },
      "execution_count": null,
      "outputs": [
        {
          "output_type": "execute_result",
          "data": {
            "text/plain": [
              "array([0.        , 0.05263158, 0.10526316, 0.15789474, 0.21052632,\n",
              "       0.26315789, 0.31578947, 0.36842105, 0.42105263, 0.47368421,\n",
              "       0.52631579, 0.57894737, 0.63157895, 0.68421053, 0.73684211,\n",
              "       0.78947368, 0.84210526, 0.89473684, 0.94736842, 1.        ])"
            ]
          },
          "metadata": {},
          "execution_count": 27
        }
      ]
    },
    {
      "cell_type": "markdown",
      "source": [
        "# Numpy Indexing and **Selection**"
      ],
      "metadata": {
        "id": "rrPFu_y4HpBU"
      }
    },
    {
      "cell_type": "markdown",
      "source": [
        "Now you will be given a few matrices, and be asked to replicate the resulting matrix outputs:\n"
      ],
      "metadata": {
        "id": "nGvjqTIFH2Z6"
      }
    },
    {
      "cell_type": "code",
      "source": [
        "mat = np.arange(1,26).reshape(5,5)\n",
        "mat"
      ],
      "metadata": {
        "colab": {
          "base_uri": "https://localhost:8080/"
        },
        "id": "bCzSERqBF6hD",
        "outputId": "2b303f11-cb37-4409-b12d-50d5b9ea233b"
      },
      "execution_count": null,
      "outputs": [
        {
          "output_type": "execute_result",
          "data": {
            "text/plain": [
              "array([[ 1,  2,  3,  4,  5],\n",
              "       [ 6,  7,  8,  9, 10],\n",
              "       [11, 12, 13, 14, 15],\n",
              "       [16, 17, 18, 19, 20],\n",
              "       [21, 22, 23, 24, 25]])"
            ]
          },
          "metadata": {},
          "execution_count": 29
        }
      ]
    },
    {
      "cell_type": "code",
      "source": [
        "mat[2:6,1:6]\n"
      ],
      "metadata": {
        "colab": {
          "base_uri": "https://localhost:8080/"
        },
        "id": "4ihPCgNRF6rM",
        "outputId": "426828f5-2275-437d-917f-1e1d58db0db8"
      },
      "execution_count": null,
      "outputs": [
        {
          "output_type": "execute_result",
          "data": {
            "text/plain": [
              "array([[12, 13, 14, 15],\n",
              "       [17, 18, 19, 20],\n",
              "       [22, 23, 24, 25]])"
            ]
          },
          "metadata": {},
          "execution_count": 30
        }
      ]
    },
    {
      "cell_type": "code",
      "source": [
        "mat[3:4,4:6]"
      ],
      "metadata": {
        "colab": {
          "base_uri": "https://localhost:8080/"
        },
        "id": "gZNcA_f1FGZ4",
        "outputId": "73c3142a-5e84-4481-db04-895348ec4056"
      },
      "execution_count": null,
      "outputs": [
        {
          "output_type": "execute_result",
          "data": {
            "text/plain": [
              "array([[20]])"
            ]
          },
          "metadata": {},
          "execution_count": 31
        }
      ]
    },
    {
      "cell_type": "code",
      "source": [
        "mat[0:3,1:2]"
      ],
      "metadata": {
        "colab": {
          "base_uri": "https://localhost:8080/"
        },
        "id": "mGPjCk7ADXsj",
        "outputId": "3abd558d-3854-489f-bff6-3fa5482e147b"
      },
      "execution_count": null,
      "outputs": [
        {
          "output_type": "execute_result",
          "data": {
            "text/plain": [
              "array([[ 2],\n",
              "       [ 7],\n",
              "       [12]])"
            ]
          },
          "metadata": {},
          "execution_count": 32
        }
      ]
    },
    {
      "cell_type": "code",
      "source": [
        "mat[4:6,0:6]"
      ],
      "metadata": {
        "colab": {
          "base_uri": "https://localhost:8080/"
        },
        "id": "-f_jgtCwDXvX",
        "outputId": "59ca1943-1c0f-4601-de38-06eae4d6d93c"
      },
      "execution_count": null,
      "outputs": [
        {
          "output_type": "execute_result",
          "data": {
            "text/plain": [
              "array([[21, 22, 23, 24, 25]])"
            ]
          },
          "metadata": {},
          "execution_count": 33
        }
      ]
    },
    {
      "cell_type": "code",
      "source": [
        "mat[3:6,0:6]"
      ],
      "metadata": {
        "colab": {
          "base_uri": "https://localhost:8080/"
        },
        "id": "UXBaDwe2DXyB",
        "outputId": "f61eb4ed-8605-4225-8514-7d2cfe7943cd"
      },
      "execution_count": null,
      "outputs": [
        {
          "output_type": "execute_result",
          "data": {
            "text/plain": [
              "array([[16, 17, 18, 19, 20],\n",
              "       [21, 22, 23, 24, 25]])"
            ]
          },
          "metadata": {},
          "execution_count": 34
        }
      ]
    },
    {
      "cell_type": "markdown",
      "source": [
        "### Now do the following"
      ],
      "metadata": {
        "id": "HytTqJNsKr69"
      }
    },
    {
      "cell_type": "markdown",
      "source": [
        "Get the sum of all the values in mat"
      ],
      "metadata": {
        "id": "30I0QQtwIir4"
      }
    },
    {
      "cell_type": "code",
      "source": [
        "sum1=np.sum(mat)\n",
        "sum1\n"
      ],
      "metadata": {
        "colab": {
          "base_uri": "https://localhost:8080/"
        },
        "id": "PhEMZ_tgDX1B",
        "outputId": "bb91da59-d053-4d17-f25f-08b0af60d106"
      },
      "execution_count": null,
      "outputs": [
        {
          "output_type": "execute_result",
          "data": {
            "text/plain": [
              "325"
            ]
          },
          "metadata": {},
          "execution_count": 35
        }
      ]
    },
    {
      "cell_type": "markdown",
      "source": [
        "Get the standard deviation of the values in mat"
      ],
      "metadata": {
        "id": "S-1FW_6zIqQ9"
      }
    },
    {
      "cell_type": "code",
      "source": [
        "sd=np.std(mat)\n",
        "sd"
      ],
      "metadata": {
        "colab": {
          "base_uri": "https://localhost:8080/"
        },
        "id": "VvQf6au0DX3s",
        "outputId": "80429ff8-a543-417e-88f1-f5cecd262ee6"
      },
      "execution_count": null,
      "outputs": [
        {
          "output_type": "execute_result",
          "data": {
            "text/plain": [
              "7.211102550927978"
            ]
          },
          "metadata": {},
          "execution_count": 36
        }
      ]
    },
    {
      "cell_type": "markdown",
      "source": [
        "Get the sum of all the columns in mat"
      ],
      "metadata": {
        "id": "HuhbEMQwIxnA"
      }
    },
    {
      "cell_type": "code",
      "source": [
        "col_sum=np.sum(mat,axis=0)\n",
        "col_sum"
      ],
      "metadata": {
        "colab": {
          "base_uri": "https://localhost:8080/"
        },
        "id": "SIcez3rJDX6e",
        "outputId": "c76354f8-326c-4824-b858-735b3e9913ce"
      },
      "execution_count": null,
      "outputs": [
        {
          "output_type": "execute_result",
          "data": {
            "text/plain": [
              "array([55, 60, 65, 70, 75])"
            ]
          },
          "metadata": {},
          "execution_count": 37
        }
      ]
    }
  ]
}